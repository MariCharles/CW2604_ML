{
  "nbformat": 4,
  "nbformat_minor": 0,
  "metadata": {
    "colab": {
      "provenance": []
    },
    "kernelspec": {
      "name": "python3",
      "display_name": "Python 3"
    },
    "language_info": {
      "name": "python"
    }
  },
  "cells": [
    {
      "cell_type": "code",
      "source": [
        "import pandas as pd\n",
        "\n",
        "file_name = 'bank-full.csv'\n",
        "data = pd.read_csv(file_name)\n",
        "\n",
        "# Display the first few rows\n",
        "print(data.head())\n",
        "\n",
        "# Reload the dataset specifying the separator\n",
        "data = pd.read_csv(file_name, sep=';')\n",
        "\n",
        "# Display the first few rows to confirm splitting\n",
        "print(data.head())\n",
        "\n",
        "# Check the column names\n",
        "print(data.columns)\n",
        "\n",
        "# Save the formatted dataset to a new CSV file\n",
        "formatted_file_name = 'bank_marketing_formatted.csv'\n",
        "data.to_csv(formatted_file_name, index=False)\n",
        "\n",
        "# Download the file\n",
        "from google.colab import files\n",
        "files.download(formatted_file_name)"
      ],
      "metadata": {
        "colab": {
          "base_uri": "https://localhost:8080/",
          "height": 436
        },
        "id": "8TaSk0u3g_7Z",
        "outputId": "1e236050-4c9d-459b-e1d5-04097c39b991",
        "collapsed": true
      },
      "execution_count": null,
      "outputs": [
        {
          "output_type": "stream",
          "name": "stdout",
          "text": [
            "  age;\"job\";\"marital\";\"education\";\"default\";\"balance\";\"housing\";\"loan\";\"contact\";\"day\";\"month\";\"duration\";\"campaign\";\"pdays\";\"previous\";\"poutcome\";\"y\"\n",
            "0  58;\"management\";\"married\";\"tertiary\";\"no\";2143...                                                                                                  \n",
            "1  44;\"technician\";\"single\";\"secondary\";\"no\";29;\"...                                                                                                  \n",
            "2  33;\"entrepreneur\";\"married\";\"secondary\";\"no\";2...                                                                                                  \n",
            "3  47;\"blue-collar\";\"married\";\"unknown\";\"no\";1506...                                                                                                  \n",
            "4  33;\"unknown\";\"single\";\"unknown\";\"no\";1;\"no\";\"n...                                                                                                  \n",
            "   age           job  marital  education default  balance housing loan  \\\n",
            "0   58    management  married   tertiary      no     2143     yes   no   \n",
            "1   44    technician   single  secondary      no       29     yes   no   \n",
            "2   33  entrepreneur  married  secondary      no        2     yes  yes   \n",
            "3   47   blue-collar  married    unknown      no     1506     yes   no   \n",
            "4   33       unknown   single    unknown      no        1      no   no   \n",
            "\n",
            "   contact  day month  duration  campaign  pdays  previous poutcome   y  \n",
            "0  unknown    5   may       261         1     -1         0  unknown  no  \n",
            "1  unknown    5   may       151         1     -1         0  unknown  no  \n",
            "2  unknown    5   may        76         1     -1         0  unknown  no  \n",
            "3  unknown    5   may        92         1     -1         0  unknown  no  \n",
            "4  unknown    5   may       198         1     -1         0  unknown  no  \n",
            "Index(['age', 'job', 'marital', 'education', 'default', 'balance', 'housing',\n",
            "       'loan', 'contact', 'day', 'month', 'duration', 'campaign', 'pdays',\n",
            "       'previous', 'poutcome', 'y'],\n",
            "      dtype='object')\n"
          ]
        },
        {
          "output_type": "display_data",
          "data": {
            "text/plain": [
              "<IPython.core.display.Javascript object>"
            ],
            "application/javascript": [
              "\n",
              "    async function download(id, filename, size) {\n",
              "      if (!google.colab.kernel.accessAllowed) {\n",
              "        return;\n",
              "      }\n",
              "      const div = document.createElement('div');\n",
              "      const label = document.createElement('label');\n",
              "      label.textContent = `Downloading \"${filename}\": `;\n",
              "      div.appendChild(label);\n",
              "      const progress = document.createElement('progress');\n",
              "      progress.max = size;\n",
              "      div.appendChild(progress);\n",
              "      document.body.appendChild(div);\n",
              "\n",
              "      const buffers = [];\n",
              "      let downloaded = 0;\n",
              "\n",
              "      const channel = await google.colab.kernel.comms.open(id);\n",
              "      // Send a message to notify the kernel that we're ready.\n",
              "      channel.send({})\n",
              "\n",
              "      for await (const message of channel.messages) {\n",
              "        // Send a message to notify the kernel that we're ready.\n",
              "        channel.send({})\n",
              "        if (message.buffers) {\n",
              "          for (const buffer of message.buffers) {\n",
              "            buffers.push(buffer);\n",
              "            downloaded += buffer.byteLength;\n",
              "            progress.value = downloaded;\n",
              "          }\n",
              "        }\n",
              "      }\n",
              "      const blob = new Blob(buffers, {type: 'application/binary'});\n",
              "      const a = document.createElement('a');\n",
              "      a.href = window.URL.createObjectURL(blob);\n",
              "      a.download = filename;\n",
              "      div.appendChild(a);\n",
              "      a.click();\n",
              "      div.remove();\n",
              "    }\n",
              "  "
            ]
          },
          "metadata": {}
        },
        {
          "output_type": "display_data",
          "data": {
            "text/plain": [
              "<IPython.core.display.Javascript object>"
            ],
            "application/javascript": [
              "download(\"download_9e15e92b-7b13-4c1b-9071-f62c1b994579\", \"bank_marketing_formatted.csv\", 3706094)"
            ]
          },
          "metadata": {}
        }
      ]
    },
    {
      "cell_type": "code",
      "source": [
        "# Load the formatted dataset\n",
        "data = pd.read_csv('bank_marketing_formatted.csv')\n",
        "\n",
        "# Display the first few rows\n",
        "print(data.head())\n",
        "\n",
        "# Check data information\n",
        "print(data.info())\n",
        "\n",
        "# Check basic statistics for numerical columns\n",
        "print(data.describe())\n",
        "\n",
        "# Check the class distribution of the target variable\n",
        "print(data['y'].value_counts())  #Target column = 'y'"
      ],
      "metadata": {
        "colab": {
          "base_uri": "https://localhost:8080/"
        },
        "id": "F8FDbEnAifuu",
        "outputId": "872d4482-2adc-4f9a-fd67-c6b7a6460b35",
        "collapsed": true
      },
      "execution_count": null,
      "outputs": [
        {
          "output_type": "stream",
          "name": "stdout",
          "text": [
            "   age           job  marital  education default  balance housing loan  \\\n",
            "0   58    management  married   tertiary      no     2143     yes   no   \n",
            "1   44    technician   single  secondary      no       29     yes   no   \n",
            "2   33  entrepreneur  married  secondary      no        2     yes  yes   \n",
            "3   47   blue-collar  married    unknown      no     1506     yes   no   \n",
            "4   33       unknown   single    unknown      no        1      no   no   \n",
            "\n",
            "   contact  day month  duration  campaign  pdays  previous poutcome   y  \n",
            "0  unknown    5   may       261         1     -1         0  unknown  no  \n",
            "1  unknown    5   may       151         1     -1         0  unknown  no  \n",
            "2  unknown    5   may        76         1     -1         0  unknown  no  \n",
            "3  unknown    5   may        92         1     -1         0  unknown  no  \n",
            "4  unknown    5   may       198         1     -1         0  unknown  no  \n",
            "<class 'pandas.core.frame.DataFrame'>\n",
            "RangeIndex: 45211 entries, 0 to 45210\n",
            "Data columns (total 17 columns):\n",
            " #   Column     Non-Null Count  Dtype \n",
            "---  ------     --------------  ----- \n",
            " 0   age        45211 non-null  int64 \n",
            " 1   job        45211 non-null  object\n",
            " 2   marital    45211 non-null  object\n",
            " 3   education  45211 non-null  object\n",
            " 4   default    45211 non-null  object\n",
            " 5   balance    45211 non-null  int64 \n",
            " 6   housing    45211 non-null  object\n",
            " 7   loan       45211 non-null  object\n",
            " 8   contact    45211 non-null  object\n",
            " 9   day        45211 non-null  int64 \n",
            " 10  month      45211 non-null  object\n",
            " 11  duration   45211 non-null  int64 \n",
            " 12  campaign   45211 non-null  int64 \n",
            " 13  pdays      45211 non-null  int64 \n",
            " 14  previous   45211 non-null  int64 \n",
            " 15  poutcome   45211 non-null  object\n",
            " 16  y          45211 non-null  object\n",
            "dtypes: int64(7), object(10)\n",
            "memory usage: 5.9+ MB\n",
            "None\n",
            "                age        balance           day      duration      campaign  \\\n",
            "count  45211.000000   45211.000000  45211.000000  45211.000000  45211.000000   \n",
            "mean      40.936210    1362.272058     15.806419    258.163080      2.763841   \n",
            "std       10.618762    3044.765829      8.322476    257.527812      3.098021   \n",
            "min       18.000000   -8019.000000      1.000000      0.000000      1.000000   \n",
            "25%       33.000000      72.000000      8.000000    103.000000      1.000000   \n",
            "50%       39.000000     448.000000     16.000000    180.000000      2.000000   \n",
            "75%       48.000000    1428.000000     21.000000    319.000000      3.000000   \n",
            "max       95.000000  102127.000000     31.000000   4918.000000     63.000000   \n",
            "\n",
            "              pdays      previous  \n",
            "count  45211.000000  45211.000000  \n",
            "mean      40.197828      0.580323  \n",
            "std      100.128746      2.303441  \n",
            "min       -1.000000      0.000000  \n",
            "25%       -1.000000      0.000000  \n",
            "50%       -1.000000      0.000000  \n",
            "75%       -1.000000      0.000000  \n",
            "max      871.000000    275.000000  \n",
            "y\n",
            "no     39922\n",
            "yes     5289\n",
            "Name: count, dtype: int64\n"
          ]
        }
      ]
    },
    {
      "cell_type": "code",
      "source": [
        "import pandas as pd\n",
        "import numpy as np\n",
        "\n",
        "# Load the formatted dataset\n",
        "data = pd.read_csv('bank_marketing_formatted.csv')\n",
        "\n",
        "# Feature Engineering: Create new features\n",
        "# 1. Age Categories\n",
        "data['age_category'] = pd.cut(data['age'], bins=[0, 25, 50, 100], labels=['Young', 'Middle-aged', 'Senior'])\n",
        "\n",
        "# 2. Balance Categories\n",
        "data['balance_category'] = pd.cut(data['balance'], bins=[-np.inf, 0, 1000, 5000, np.inf], labels=['Low', 'Medium', 'High', 'Very High'])\n",
        "\n",
        "# 3. Duration Categories\n",
        "data['duration_category'] = pd.cut(data['duration'], bins=[-np.inf, 10, 30, 60, np.inf], labels=['Short', 'Medium', 'Long', 'Very Long'])\n",
        "\n",
        "# 4. Convert 'month' to numeric (1 to 12)\n",
        "month_map = {'jan': 1, 'feb': 2, 'mar': 3, 'apr': 4, 'may': 5, 'jun': 6, 'jul': 7, 'aug': 8, 'sep': 9, 'oct': 10, 'nov': 11, 'dec': 12}\n",
        "data['month_numeric'] = data['month'].map(month_map)\n",
        "\n",
        "# 5. Create features from contact history\n",
        "data['contacted_recently'] = (data['pdays'] < 30).astype(int)  # Was the client contacted recently?\n",
        "data['successful_campaign'] = (data['poutcome'] == 'success').astype(int)  # Was the last campaign successful?\n",
        "\n",
        "# 6. Apply log transformation to the 'balance' feature to reduce skewness\n",
        "data['log_balance'] = np.log1p(data['balance'])  # log(x + 1) to avoid issues with 0\n",
        "\n",
        "# 7. Interaction feature: age and balance interaction\n",
        "data['age_balance_interaction'] = data['age'] * data['balance']\n",
        "\n",
        "# Separate numerical and categorical columns\n",
        "numerical_cols = ['age', 'balance', 'day', 'duration', 'campaign', 'pdays', 'previous', 'month_numeric', 'log_balance', 'age_balance_interaction']\n",
        "categorical_cols = ['job', 'marital', 'education', 'default', 'housing', 'loan', 'contact', 'month', 'poutcome', 'age_category', 'balance_category', 'duration_category']\n",
        "\n",
        "# Encode the target variable 'y' (yes -> 1, no -> 0)\n",
        "if 'y' in data.columns:\n",
        "    data['y'] = data['y'].map({'yes': 1, 'no': 0})\n",
        "\n",
        "# Encode categorical columns (one-hot encoding for simplicity)\n",
        "data_encoded = pd.get_dummies(data, columns=categorical_cols, drop_first=True)\n",
        "\n",
        "# Handle outliers using the IQR method\n",
        "Q1 = data_encoded[numerical_cols].quantile(0.25)\n",
        "Q3 = data_encoded[numerical_cols].quantile(0.75)\n",
        "IQR = Q3 - Q1\n",
        "\n",
        "# Define the conditions for identifying outliers\n",
        "outliers_condition = ((data_encoded[numerical_cols] < (Q1 - 1.5 * IQR)) |\n",
        "                      (data_encoded[numerical_cols] > (Q3 + 1.5 * IQR)))\n",
        "\n",
        "# Remove rows with outliers\n",
        "data_encoded = data_encoded[~outliers_condition.any(axis=1)]\n",
        "\n",
        "# Save the preprocessed data to a CSV file\n",
        "output_file = 'preprocessed_data_with_feature_engineering.csv'\n",
        "data_encoded.to_csv(output_file, index=False)\n",
        "\n",
        "# Print confirmation message\n",
        "print(f\"Preprocessed data with feature engineering and outliers removed has been saved to {output_file}.\")\n"
      ],
      "metadata": {
        "id": "QfBaMRM_ygz1",
        "colab": {
          "base_uri": "https://localhost:8080/"
        },
        "outputId": "e9377071-3d2f-4caa-d37b-79a58fef0792"
      },
      "execution_count": null,
      "outputs": [
        {
          "output_type": "stream",
          "name": "stderr",
          "text": [
            "/usr/local/lib/python3.10/dist-packages/pandas/core/arraylike.py:399: RuntimeWarning: divide by zero encountered in log1p\n",
            "  result = getattr(ufunc, method)(*inputs, **kwargs)\n",
            "/usr/local/lib/python3.10/dist-packages/pandas/core/arraylike.py:399: RuntimeWarning: invalid value encountered in log1p\n",
            "  result = getattr(ufunc, method)(*inputs, **kwargs)\n"
          ]
        },
        {
          "output_type": "stream",
          "name": "stdout",
          "text": [
            "Preprocessed data with feature engineering and outliers removed has been saved to preprocessed_data_with_feature_engineering.csv.\n"
          ]
        }
      ]
    },
    {
      "cell_type": "code",
      "source": [
        "from sklearn.model_selection import train_test_split\n",
        "from imblearn.over_sampling import SMOTE\n",
        "from sklearn.preprocessing import StandardScaler\n",
        "from sklearn.impute import SimpleImputer\n",
        "\n",
        "# Handle missing values in 'log_balance' by imputing with the mean\n",
        "imputer = SimpleImputer(strategy='mean')\n",
        "data_encoded['log_balance'] = imputer.fit_transform(data_encoded[['log_balance']])\n",
        "\n",
        "# Check for missing values after imputation\n",
        "print(\"Missing values in log_balance after imputation:\\n\", data_encoded['log_balance'].isna().sum())\n",
        "\n",
        "# Separate features and target\n",
        "X = data_encoded.drop(columns=['y'])\n",
        "y = data_encoded['y']\n",
        "\n",
        "# Standardize the features\n",
        "scaler = StandardScaler()\n",
        "X_standardized = scaler.fit_transform(X)\n",
        "\n",
        "# Split the data (80% training, 20% test)\n",
        "X_train, X_test, y_train, y_test = train_test_split(X_standardized, y, test_size=0.2, random_state=42)\n",
        "\n",
        "# Check for missing values in the train set before applying SMOTE\n",
        "print(\"Missing values in X_train before SMOTE:\\n\", pd.DataFrame(X_train).isna().sum())\n",
        "\n",
        "# Apply SMOTE for handling class imbalance\n",
        "smote = SMOTE(sampling_strategy='auto', random_state=42)\n",
        "X_train_resampled, y_train_resampled = smote.fit_resample(X_train, y_train)\n",
        "\n",
        "# Verify if resampling was successful\n",
        "print(f\"Resampled X_train shape: {X_train_resampled.shape}\")\n",
        "print(f\"Resampled y_train shape: {y_train_resampled.shape}\")\n"
      ],
      "metadata": {
        "colab": {
          "base_uri": "https://localhost:8080/"
        },
        "id": "_xhz3ITZlVge",
        "outputId": "45b3ad73-1b2d-4740-80c0-dd40131bb779",
        "collapsed": true
      },
      "execution_count": null,
      "outputs": [
        {
          "output_type": "stream",
          "name": "stdout",
          "text": [
            "Missing values in log_balance after imputation:\n",
            " 0\n",
            "Missing values in X_train before SMOTE:\n",
            " 0     0\n",
            "1     0\n",
            "2     0\n",
            "3     0\n",
            "4     0\n",
            "5     0\n",
            "6     0\n",
            "7     0\n",
            "8     0\n",
            "9     0\n",
            "10    0\n",
            "11    0\n",
            "12    0\n",
            "13    0\n",
            "14    0\n",
            "15    0\n",
            "16    0\n",
            "17    0\n",
            "18    0\n",
            "19    0\n",
            "20    0\n",
            "21    0\n",
            "22    0\n",
            "23    0\n",
            "24    0\n",
            "25    0\n",
            "26    0\n",
            "27    0\n",
            "28    0\n",
            "29    0\n",
            "30    0\n",
            "31    0\n",
            "32    0\n",
            "33    0\n",
            "34    0\n",
            "35    0\n",
            "36    0\n",
            "37    0\n",
            "38    0\n",
            "39    0\n",
            "40    0\n",
            "41    0\n",
            "42    0\n",
            "43    0\n",
            "44    0\n",
            "45    0\n",
            "46    0\n",
            "47    0\n",
            "48    0\n",
            "49    0\n",
            "50    0\n",
            "51    0\n",
            "52    0\n",
            "53    0\n",
            "54    0\n",
            "dtype: int64\n",
            "Resampled X_train shape: (37296, 55)\n",
            "Resampled y_train shape: (37296,)\n"
          ]
        },
        {
          "output_type": "stream",
          "name": "stderr",
          "text": [
            "/usr/local/lib/python3.10/dist-packages/sklearn/base.py:474: FutureWarning: `BaseEstimator._validate_data` is deprecated in 1.6 and will be removed in 1.7. Use `sklearn.utils.validation.validate_data` instead. This function becomes public and is part of the scikit-learn developer API.\n",
            "  warnings.warn(\n",
            "/usr/local/lib/python3.10/dist-packages/sklearn/utils/_tags.py:354: FutureWarning: The SMOTE or classes from which it inherits use `_get_tags` and `_more_tags`. Please define the `__sklearn_tags__` method, or inherit from `sklearn.base.BaseEstimator` and/or other appropriate mixins such as `sklearn.base.TransformerMixin`, `sklearn.base.ClassifierMixin`, `sklearn.base.RegressorMixin`, and `sklearn.base.OutlierMixin`. From scikit-learn 1.7, not defining `__sklearn_tags__` will raise an error.\n",
            "  warnings.warn(\n"
          ]
        }
      ]
    },
    {
      "cell_type": "code",
      "source": [
        "from sklearn.neural_network import MLPClassifier\n",
        "from sklearn.metrics import accuracy_score, classification_report, confusion_matrix\n",
        "from sklearn.utils.class_weight import compute_class_weight\n",
        "import numpy as np\n",
        "\n",
        "# Initialize the Neural Network model\n",
        "nn_model = MLPClassifier(hidden_layer_sizes=(64, 32), max_iter=200, random_state=42)\n",
        "\n",
        "# Train the Neural Network model\n",
        "nn_model.fit(X_train_resampled, y_train_resampled)\n",
        "\n",
        "# Predict on the test set\n",
        "nn_predictions = nn_model.predict(X_test)\n",
        "\n",
        "# Evaluate the Neural Network model\n",
        "nn_accuracy = accuracy_score(y_test, nn_predictions)\n",
        "nn_classification_report = classification_report(y_test, nn_predictions)\n",
        "nn_confusion_matrix = confusion_matrix(y_test, nn_predictions)\n",
        "\n",
        "# Print Neural Network results\n",
        "print(\"Neural Network Performance:\")\n",
        "print(f\"Accuracy: {nn_accuracy:.4f}\")\n",
        "print(\"Classification Report:\")\n",
        "print(nn_classification_report)\n",
        "print(\"Confusion Matrix:\")\n",
        "print(nn_confusion_matrix)"
      ],
      "metadata": {
        "colab": {
          "base_uri": "https://localhost:8080/"
        },
        "id": "QL8EhLFwPpW-",
        "outputId": "b36ede57-20e1-48c0-c6ef-b0e549a6ab90"
      },
      "execution_count": null,
      "outputs": [
        {
          "output_type": "stream",
          "name": "stdout",
          "text": [
            "Neural Network Performance:\n",
            "Accuracy: 0.9236\n",
            "Classification Report:\n",
            "              precision    recall  f1-score   support\n",
            "\n",
            "           0       0.96      0.96      0.96      4662\n",
            "           1       0.33      0.33      0.33       285\n",
            "\n",
            "    accuracy                           0.92      4947\n",
            "   macro avg       0.65      0.64      0.64      4947\n",
            "weighted avg       0.92      0.92      0.92      4947\n",
            "\n",
            "Confusion Matrix:\n",
            "[[4476  186]\n",
            " [ 192   93]]\n"
          ]
        }
      ]
    },
    {
      "cell_type": "code",
      "source": [
        "from sklearn.ensemble import RandomForestClassifier\n",
        "\n",
        "# Initialize the Random Forest model\n",
        "rf_model = RandomForestClassifier(n_estimators=100, random_state=42)\n",
        "\n",
        "# Train the Random Forest model\n",
        "rf_model.fit(X_train_resampled, y_train_resampled)\n",
        "\n",
        "# Predict on the test set\n",
        "rf_predictions = rf_model.predict(X_test)\n",
        "\n",
        "# Evaluate the Random Forest model\n",
        "rf_accuracy = accuracy_score(y_test, rf_predictions)\n",
        "rf_classification_report = classification_report(y_test, rf_predictions)\n",
        "rf_confusion_matrix = confusion_matrix(y_test, rf_predictions)\n",
        "\n",
        "# Print Random Forest results\n",
        "print(\"Random Forest Performance:\")\n",
        "print(f\"Accuracy: {rf_accuracy:.4f}\")\n",
        "print(\"Classification Report:\")\n",
        "print(rf_classification_report)\n",
        "print(\"Confusion Matrix:\")\n",
        "print(rf_confusion_matrix)"
      ],
      "metadata": {
        "colab": {
          "base_uri": "https://localhost:8080/"
        },
        "id": "YRIE8zJYvz2G",
        "outputId": "fe21b7cc-57ed-4f2c-9e2b-af7f99ab12d3"
      },
      "execution_count": null,
      "outputs": [
        {
          "output_type": "stream",
          "name": "stdout",
          "text": [
            "Random Forest Performance:\n",
            "Accuracy: 0.9404\n",
            "Classification Report:\n",
            "              precision    recall  f1-score   support\n",
            "\n",
            "           0       0.96      0.98      0.97      4662\n",
            "           1       0.47      0.33      0.39       285\n",
            "\n",
            "    accuracy                           0.94      4947\n",
            "   macro avg       0.72      0.65      0.68      4947\n",
            "weighted avg       0.93      0.94      0.94      4947\n",
            "\n",
            "Confusion Matrix:\n",
            "[[4559  103]\n",
            " [ 192   93]]\n"
          ]
        }
      ]
    },
    {
      "cell_type": "code",
      "source": [
        "import matplotlib.pyplot as plt\n",
        "import seaborn as sns\n",
        "\n",
        "# Plotting the confusion matrix for Neural Network\n",
        "plt.figure(figsize=(10, 7))\n",
        "sns.heatmap(nn_confusion_matrix, annot=True, fmt=\"d\", cmap=\"Blues\", cbar=False,\n",
        "            xticklabels=np.unique(y_test), yticklabels=np.unique(y_test))\n",
        "plt.title(\"Neural Network - Confusion Matrix\")\n",
        "plt.xlabel('Predicted Labels')\n",
        "plt.ylabel('True Labels')\n",
        "plt.show()\n",
        "\n",
        "# Plotting the confusion matrix for Random Forest\n",
        "plt.figure(figsize=(10, 7))\n",
        "sns.heatmap(rf_confusion_matrix, annot=True, fmt=\"d\", cmap=\"Blues\", cbar=False,\n",
        "            xticklabels=np.unique(y_test), yticklabels=np.unique(y_test))\n",
        "plt.title(\"Random Forest - Confusion Matrix\")\n",
        "plt.xlabel('Predicted Labels')\n",
        "plt.ylabel('True Labels')\n",
        "plt.show()\n",
        "\n",
        "# Plotting the accuracy of both models for comparison\n",
        "models = ['Neural Network', 'Random Forest']\n",
        "accuracies = [nn_accuracy, rf_accuracy]\n",
        "\n",
        "plt.figure(figsize=(6, 4))\n",
        "sns.barplot(x=models, y=accuracies, palette='viridis')\n",
        "plt.title(\"Model Accuracy Comparison\")\n",
        "plt.ylabel(\"Accuracy\")\n",
        "plt.ylim(0, 1)\n",
        "plt.show()"
      ],
      "metadata": {
        "colab": {
          "base_uri": "https://localhost:8080/",
          "height": 1000
        },
        "id": "fKB5ry8IX86Q",
        "outputId": "f2d12e89-aebc-44be-f043-0ab7a1a17320"
      },
      "execution_count": null,
      "outputs": [
        {
          "output_type": "display_data",
          "data": {
            "text/plain": [
              "<Figure size 1000x700 with 1 Axes>"
            ],
            "image/png": "[encoded data removed]"
          },
          "metadata": {}
        },
        {
          "output_type": "display_data",
          "data": {
            "text/plain": [
              "<Figure size 1000x700 with 1 Axes>"
            ],
            "image/png": "[encoded data removed]"
          },
          "metadata": {}
        },
        {
          "output_type": "stream",
          "name": "stderr",
          "text": [
            "<ipython-input-8-1b76dfca1865>:27: FutureWarning: \n",
            "\n",
            "Passing `palette` without assigning `hue` is deprecated and will be removed in v0.14.0. Assign the `x` variable to `hue` and set `legend=False` for the same effect.\n",
            "\n",
            "  sns.barplot(x=models, y=accuracies, palette='viridis')\n"
          ]
        },
        {
          "output_type": "display_data",
          "data": {
            "text/plain": [
              "<Figure size 600x400 with 1 Axes>"
            ],
            "image/png": "[encoded data removed]"
          },
          "metadata": {}
        }
      ]
    }
  ]
}