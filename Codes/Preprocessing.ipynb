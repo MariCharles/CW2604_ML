{
  "nbformat": 4,
  "nbformat_minor": 0,
  "metadata": {
    "colab": {
      "provenance": []
    },
    "kernelspec": {
      "name": "python3",
      "display_name": "Python 3"
    },
    "language_info": {
      "name": "python"
    }
  },
  "cells": [
    {
      "cell_type": "code",
      "execution_count": 1,
      "metadata": {
        "colab": {
          "base_uri": "https://localhost:8080/",
          "height": 436
        },
        "id": "-zJROlkGeDyE",
        "outputId": "926bae5a-0778-4420-c978-d11e95e1689b"
      },
      "outputs": [
        {
          "output_type": "stream",
          "name": "stdout",
          "text": [
            "  age;\"job\";\"marital\";\"education\";\"default\";\"balance\";\"housing\";\"loan\";\"contact\";\"day\";\"month\";\"duration\";\"campaign\";\"pdays\";\"previous\";\"poutcome\";\"y\"\n",
            "0  58;\"management\";\"married\";\"tertiary\";\"no\";2143...                                                                                                  \n",
            "1  44;\"technician\";\"single\";\"secondary\";\"no\";29;\"...                                                                                                  \n",
            "2  33;\"entrepreneur\";\"married\";\"secondary\";\"no\";2...                                                                                                  \n",
            "3  47;\"blue-collar\";\"married\";\"unknown\";\"no\";1506...                                                                                                  \n",
            "4  33;\"unknown\";\"single\";\"unknown\";\"no\";1;\"no\";\"n...                                                                                                  \n",
            "   age           job  marital  education default  balance housing loan  \\\n",
            "0   58    management  married   tertiary      no     2143     yes   no   \n",
            "1   44    technician   single  secondary      no       29     yes   no   \n",
            "2   33  entrepreneur  married  secondary      no        2     yes  yes   \n",
            "3   47   blue-collar  married    unknown      no     1506     yes   no   \n",
            "4   33       unknown   single    unknown      no        1      no   no   \n",
            "\n",
            "   contact  day month  duration  campaign  pdays  previous poutcome   y  \n",
            "0  unknown    5   may       261         1     -1         0  unknown  no  \n",
            "1  unknown    5   may       151         1     -1         0  unknown  no  \n",
            "2  unknown    5   may        76         1     -1         0  unknown  no  \n",
            "3  unknown    5   may        92         1     -1         0  unknown  no  \n",
            "4  unknown    5   may       198         1     -1         0  unknown  no  \n",
            "Index(['age', 'job', 'marital', 'education', 'default', 'balance', 'housing',\n",
            "       'loan', 'contact', 'day', 'month', 'duration', 'campaign', 'pdays',\n",
            "       'previous', 'poutcome', 'y'],\n",
            "      dtype='object')\n"
          ]
        },
        {
          "output_type": "display_data",
          "data": {
            "text/plain": [
              "<IPython.core.display.Javascript object>"
            ],
            "application/javascript": [
              "\n",
              "    async function download(id, filename, size) {\n",
              "      if (!google.colab.kernel.accessAllowed) {\n",
              "        return;\n",
              "      }\n",
              "      const div = document.createElement('div');\n",
              "      const label = document.createElement('label');\n",
              "      label.textContent = `Downloading \"${filename}\": `;\n",
              "      div.appendChild(label);\n",
              "      const progress = document.createElement('progress');\n",
              "      progress.max = size;\n",
              "      div.appendChild(progress);\n",
              "      document.body.appendChild(div);\n",
              "\n",
              "      const buffers = [];\n",
              "      let downloaded = 0;\n",
              "\n",
              "      const channel = await google.colab.kernel.comms.open(id);\n",
              "      // Send a message to notify the kernel that we're ready.\n",
              "      channel.send({})\n",
              "\n",
              "      for await (const message of channel.messages) {\n",
              "        // Send a message to notify the kernel that we're ready.\n",
              "        channel.send({})\n",
              "        if (message.buffers) {\n",
              "          for (const buffer of message.buffers) {\n",
              "            buffers.push(buffer);\n",
              "            downloaded += buffer.byteLength;\n",
              "            progress.value = downloaded;\n",
              "          }\n",
              "        }\n",
              "      }\n",
              "      const blob = new Blob(buffers, {type: 'application/binary'});\n",
              "      const a = document.createElement('a');\n",
              "      a.href = window.URL.createObjectURL(blob);\n",
              "      a.download = filename;\n",
              "      div.appendChild(a);\n",
              "      a.click();\n",
              "      div.remove();\n",
              "    }\n",
              "  "
            ]
          },
          "metadata": {}
        },
        {
          "output_type": "display_data",
          "data": {
            "text/plain": [
              "<IPython.core.display.Javascript object>"
            ],
            "application/javascript": [
              "download(\"download_bc5ff673-5886-4956-bea2-e6c8227461dc\", \"bank_marketing_formatted.csv\", 3706094)"
            ]
          },
          "metadata": {}
        }
      ],
      "source": [
        "import pandas as pd\n",
        "\n",
        "file_name = 'bank-full.csv'\n",
        "data = pd.read_csv(file_name)\n",
        "\n",
        "# Display the first few rows\n",
        "print(data.head())\n",
        "\n",
        "# Reload the dataset specifying the separator\n",
        "data = pd.read_csv(file_name, sep=';')\n",
        "\n",
        "# Display the first few rows to confirm splitting\n",
        "print(data.head())\n",
        "\n",
        "# Check the column names\n",
        "print(data.columns)\n",
        "\n",
        "# Save the formatted dataset to a new CSV file\n",
        "formatted_file_name = 'bank_marketing_formatted.csv'\n",
        "data.to_csv(formatted_file_name, index=False)\n",
        "\n",
        "# Download the file to the local machine\n",
        "from google.colab import files\n",
        "files.download(formatted_file_name)"
      ]
    },
    {
      "cell_type": "code",
      "source": [
        "# Load the formatted dataset\n",
        "data = pd.read_csv('bank_marketing_formatted.csv')\n",
        "\n",
        "# Display the first few rows\n",
        "print(data.head())\n",
        "\n",
        "# Check data information\n",
        "print(data.info())\n",
        "\n",
        "# Check basic statistics for numerical columns\n",
        "print(data.describe())\n",
        "\n",
        "# Check the class distribution of the target variable\n",
        "print(data['y'].value_counts())  #Target column = 'y'"
      ],
      "metadata": {
        "colab": {
          "base_uri": "https://localhost:8080/"
        },
        "id": "9gzwvCavnBkH",
        "outputId": "06ce5490-365c-4430-cbb8-25ab84553441"
      },
      "execution_count": 2,
      "outputs": [
        {
          "output_type": "stream",
          "name": "stdout",
          "text": [
            "   age           job  marital  education default  balance housing loan  \\\n",
            "0   58    management  married   tertiary      no     2143     yes   no   \n",
            "1   44    technician   single  secondary      no       29     yes   no   \n",
            "2   33  entrepreneur  married  secondary      no        2     yes  yes   \n",
            "3   47   blue-collar  married    unknown      no     1506     yes   no   \n",
            "4   33       unknown   single    unknown      no        1      no   no   \n",
            "\n",
            "   contact  day month  duration  campaign  pdays  previous poutcome   y  \n",
            "0  unknown    5   may       261         1     -1         0  unknown  no  \n",
            "1  unknown    5   may       151         1     -1         0  unknown  no  \n",
            "2  unknown    5   may        76         1     -1         0  unknown  no  \n",
            "3  unknown    5   may        92         1     -1         0  unknown  no  \n",
            "4  unknown    5   may       198         1     -1         0  unknown  no  \n",
            "<class 'pandas.core.frame.DataFrame'>\n",
            "RangeIndex: 45211 entries, 0 to 45210\n",
            "Data columns (total 17 columns):\n",
            " #   Column     Non-Null Count  Dtype \n",
            "---  ------     --------------  ----- \n",
            " 0   age        45211 non-null  int64 \n",
            " 1   job        45211 non-null  object\n",
            " 2   marital    45211 non-null  object\n",
            " 3   education  45211 non-null  object\n",
            " 4   default    45211 non-null  object\n",
            " 5   balance    45211 non-null  int64 \n",
            " 6   housing    45211 non-null  object\n",
            " 7   loan       45211 non-null  object\n",
            " 8   contact    45211 non-null  object\n",
            " 9   day        45211 non-null  int64 \n",
            " 10  month      45211 non-null  object\n",
            " 11  duration   45211 non-null  int64 \n",
            " 12  campaign   45211 non-null  int64 \n",
            " 13  pdays      45211 non-null  int64 \n",
            " 14  previous   45211 non-null  int64 \n",
            " 15  poutcome   45211 non-null  object\n",
            " 16  y          45211 non-null  object\n",
            "dtypes: int64(7), object(10)\n",
            "memory usage: 5.9+ MB\n",
            "None\n",
            "                age        balance           day      duration      campaign  \\\n",
            "count  45211.000000   45211.000000  45211.000000  45211.000000  45211.000000   \n",
            "mean      40.936210    1362.272058     15.806419    258.163080      2.763841   \n",
            "std       10.618762    3044.765829      8.322476    257.527812      3.098021   \n",
            "min       18.000000   -8019.000000      1.000000      0.000000      1.000000   \n",
            "25%       33.000000      72.000000      8.000000    103.000000      1.000000   \n",
            "50%       39.000000     448.000000     16.000000    180.000000      2.000000   \n",
            "75%       48.000000    1428.000000     21.000000    319.000000      3.000000   \n",
            "max       95.000000  102127.000000     31.000000   4918.000000     63.000000   \n",
            "\n",
            "              pdays      previous  \n",
            "count  45211.000000  45211.000000  \n",
            "mean      40.197828      0.580323  \n",
            "std      100.128746      2.303441  \n",
            "min       -1.000000      0.000000  \n",
            "25%       -1.000000      0.000000  \n",
            "50%       -1.000000      0.000000  \n",
            "75%       -1.000000      0.000000  \n",
            "max      871.000000    275.000000  \n",
            "y\n",
            "no     39922\n",
            "yes     5289\n",
            "Name: count, dtype: int64\n"
          ]
        }
      ]
    },
    {
      "cell_type": "code",
      "source": [
        "from sklearn.preprocessing import LabelEncoder, StandardScaler\n",
        "\n",
        "# Separate numerical and categorical columns\n",
        "numerical_cols = data.select_dtypes(include=['int64', 'float64']).columns\n",
        "categorical_cols = data.select_dtypes(include=['object']).columns\n",
        "\n",
        "# Fill missing values\n",
        "for col in numerical_cols:\n",
        "    data[col].fillna(data[col].mean(), inplace=True)\n",
        "\n",
        "for col in categorical_cols:\n",
        "    data[col].fillna(data[col].mode()[0], inplace=True)\n",
        "\n",
        "# Encode the target variable in the dataset\n",
        "data['y'] = data['y'].apply(lambda x: 1 if x == 'yes' else 0)\n",
        "\n",
        "# Preprocessing for Random Forest\n",
        "rf_data = data.copy()\n",
        "label_encoders = {}\n",
        "for col in categorical_cols:\n",
        "    le = LabelEncoder()\n",
        "    rf_data[col] = le.fit_transform(rf_data[col])\n",
        "    label_encoders[col] = le\n",
        "\n",
        "# Preprocessing for Neural Networks\n",
        "nn_data = data.copy()\n",
        "nn_data = pd.get_dummies(nn_data, columns=categorical_cols, drop_first=True)\n",
        "\n",
        "scaler = StandardScaler()\n",
        "nn_data[numerical_cols] = scaler.fit_transform(nn_data[numerical_cols])\n",
        "\n",
        "# Display processed datasets\n",
        "print(\"Random Forest Data:\")\n",
        "print(rf_data.head())\n",
        "print(\"\\nNeural Network Data:\")\n",
        "print(nn_data.head())"
      ],
      "metadata": {
        "colab": {
          "base_uri": "https://localhost:8080/"
        },
        "id": "rAWgLwhfnGpG",
        "outputId": "6e2143f3-d67c-4cff-ba65-1ec187bbf80a"
      },
      "execution_count": 4,
      "outputs": [
        {
          "output_type": "stream",
          "name": "stderr",
          "text": [
            "<ipython-input-4-1cb412bfefd9>:9: FutureWarning: A value is trying to be set on a copy of a DataFrame or Series through chained assignment using an inplace method.\n",
            "The behavior will change in pandas 3.0. This inplace method will never work because the intermediate object on which we are setting values always behaves as a copy.\n",
            "\n",
            "For example, when doing 'df[col].method(value, inplace=True)', try using 'df.method({col: value}, inplace=True)' or df[col] = df[col].method(value) instead, to perform the operation inplace on the original object.\n",
            "\n",
            "\n",
            "  data[col].fillna(data[col].mean(), inplace=True)\n",
            "<ipython-input-4-1cb412bfefd9>:12: FutureWarning: A value is trying to be set on a copy of a DataFrame or Series through chained assignment using an inplace method.\n",
            "The behavior will change in pandas 3.0. This inplace method will never work because the intermediate object on which we are setting values always behaves as a copy.\n",
            "\n",
            "For example, when doing 'df[col].method(value, inplace=True)', try using 'df.method({col: value}, inplace=True)' or df[col] = df[col].method(value) instead, to perform the operation inplace on the original object.\n",
            "\n",
            "\n",
            "  data[col].fillna(data[col].mode()[0], inplace=True)\n"
          ]
        },
        {
          "output_type": "stream",
          "name": "stdout",
          "text": [
            "Random Forest Data:\n",
            "   age  job  marital  education  default  balance  housing  loan  contact  \\\n",
            "0   58    4        1          2        0     2143        1     0        2   \n",
            "1   44    9        2          1        0       29        1     0        2   \n",
            "2   33    2        1          1        0        2        1     1        2   \n",
            "3   47    1        1          3        0     1506        1     0        2   \n",
            "4   33   11        2          3        0        1        0     0        2   \n",
            "\n",
            "   day  month  duration  campaign  pdays  previous  poutcome  y  \n",
            "0    5      8       261         1     -1         0         3  0  \n",
            "1    5      8       151         1     -1         0         3  0  \n",
            "2    5      8        76         1     -1         0         3  0  \n",
            "3    5      8        92         1     -1         0         3  0  \n",
            "4    5      8       198         1     -1         0         3  0  \n",
            "\n",
            "Neural Network Data:\n",
            "        age   balance       day  duration  campaign     pdays  previous    y  \\\n",
            "0  1.606965  0.256419 -1.298476  0.011016 -0.569351 -0.411453  -0.25194  0.0   \n",
            "1  0.288529 -0.437895 -1.298476 -0.416127 -0.569351 -0.411453  -0.25194  0.0   \n",
            "2 -0.747384 -0.446762 -1.298476 -0.707361 -0.569351 -0.411453  -0.25194  0.0   \n",
            "3  0.571051  0.047205 -1.298476 -0.645231 -0.569351 -0.411453  -0.25194  0.0   \n",
            "4 -0.747384 -0.447091 -1.298476 -0.233620 -0.569351 -0.411453  -0.25194  0.0   \n",
            "\n",
            "   job_blue-collar  job_entrepreneur  ...  month_jul  month_jun  month_mar  \\\n",
            "0            False             False  ...      False      False      False   \n",
            "1            False             False  ...      False      False      False   \n",
            "2            False              True  ...      False      False      False   \n",
            "3             True             False  ...      False      False      False   \n",
            "4            False             False  ...      False      False      False   \n",
            "\n",
            "   month_may  month_nov  month_oct  month_sep  poutcome_other  \\\n",
            "0       True      False      False      False           False   \n",
            "1       True      False      False      False           False   \n",
            "2       True      False      False      False           False   \n",
            "3       True      False      False      False           False   \n",
            "4       True      False      False      False           False   \n",
            "\n",
            "   poutcome_success  poutcome_unknown  \n",
            "0             False              True  \n",
            "1             False              True  \n",
            "2             False              True  \n",
            "3             False              True  \n",
            "4             False              True  \n",
            "\n",
            "[5 rows x 43 columns]\n"
          ]
        }
      ]
    }
  ]
}